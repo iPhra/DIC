{
 "cells": [
  {
   "cell_type": "markdown",
   "metadata": {},
   "source": [
    "# Kafka Consumer"
   ]
  },
  {
   "cell_type": "code",
   "execution_count": 1,
   "metadata": {},
   "outputs": [],
   "source": [
    "import os\n",
    "os.environ['PYSPARK_SUBMIT_ARGS'] = '--packages org.apache.spark:spark-streaming-kafka-0-8_2.11:2.0.2 pyspark-shell'"
   ]
  },
  {
   "cell_type": "markdown",
   "metadata": {},
   "source": [
    "### Import dependencies\n"
   ]
  },
  {
   "cell_type": "code",
   "execution_count": 2,
   "metadata": {},
   "outputs": [],
   "source": [
    "#Stream processing\n",
    "from pyspark import SparkContext\n",
    "from pyspark.streaming import StreamingContext\n",
    "from pyspark.streaming.kafka import KafkaUtils\n",
    "import json"
   ]
  },
  {
   "cell_type": "code",
   "execution_count": 3,
   "metadata": {},
   "outputs": [],
   "source": [
    "#Text processing\n",
    "import preprocessor as p\n",
    "import re\n",
    "import string\n",
    "\n",
    "import nltk\n",
    "from nltk.corpus import stopwords\n",
    "from nltk import word_tokenize"
   ]
  },
  {
   "cell_type": "markdown",
   "metadata": {},
   "source": [
    "### Text cleaning"
   ]
  },
  {
   "cell_type": "code",
   "execution_count": 4,
   "metadata": {},
   "outputs": [],
   "source": [
    "stop_words = set(stopwords.words(\"english\")) #create a set of stopwords\n",
    "stop_words = stop_words.union(set((\"im\", \"thats\",\"rt\"))) #add these stopwords\n",
    "stop_words = stop_words - set(\"not\") #remove not from the stopwords\n",
    "\n",
    "p.set_options(p.OPT.URL, p.OPT.MENTION, p.OPT.EMOJI, p.OPT.SMILEY) #params to remove from the text\n",
    "\n",
    "def preprocess(text):\n",
    "    \n",
    "    #remove url, mentions, smiley and emojis\n",
    "    text = p.clean(text)\n",
    "    \n",
    "    #to lowercase\n",
    "    text = text.lower()\n",
    "    \n",
    "    #remove punctuation\n",
    "    text = text.translate(str.maketrans('', '', string.punctuation))\n",
    "    \n",
    "    #removing stopwords and stem each word\n",
    "    tokens = word_tokenize(text)\n",
    "    \n",
    "    #is_noun = lambda pos: pos[:2] == 'NN'\n",
    "    text = [i for i in tokens if not i in stop_words]\n",
    "    #text = [word for (word, pos) in nltk.pos_tag(tokens) if is_noun(pos)] \n",
    "    \n",
    "    return ' '.join(text)"
   ]
  },
  {
   "cell_type": "markdown",
   "metadata": {},
   "source": [
    "### Create Spark context\n"
   ]
  },
  {
   "cell_type": "code",
   "execution_count": 5,
   "metadata": {},
   "outputs": [],
   "source": [
    "sc = SparkContext(appName=\"PythonSparkStreamingKafka_RM_01\").getOrCreate()\n",
    "sc.setLogLevel(\"WARN\")"
   ]
  },
  {
   "cell_type": "markdown",
   "metadata": {},
   "source": [
    "### Create Streaming Context\n"
   ]
  },
  {
   "cell_type": "code",
   "execution_count": 6,
   "metadata": {},
   "outputs": [],
   "source": [
    "ssc = StreamingContext(sc, 10)\n",
    "ssc.checkpoint('ssc_checkpoint')"
   ]
  },
  {
   "cell_type": "markdown",
   "metadata": {},
   "source": [
    "### Connect to Kafka\n"
   ]
  },
  {
   "cell_type": "code",
   "execution_count": 7,
   "metadata": {},
   "outputs": [],
   "source": [
    "kafkaParams = {\"metadata.broker.list\": '35.228.250.247:9092', \"auto.offset.reset\": 'largest'}\n",
    "myStream = KafkaUtils.createDirectStream(ssc, ['DIC'], kafkaParams)"
   ]
  },
  {
   "cell_type": "code",
   "execution_count": 8,
   "metadata": {},
   "outputs": [],
   "source": [
    "tweets = myStream.map(lambda item: json.loads(item[1]))\n",
    "pairs = tweets.map(lambda x: ((x['tag'], x['date']), preprocess(x['tweet']).split()))\n",
    "trial = pairs.flatMapValues(lambda x: x)\n",
    "\n",
    "trial.pprint()\n",
    "                      \n",
    "#tweets = myStream.map(lambda x: preprocess(x[1]))\n",
    "##words = tweets.flatMap(lambda x: x.split(\" \"))\n",
    "\n",
    "##pairs = words.map(lambda x: (x, 1))\n",
    "##counts = pairs.reduceByKey(lambda n1, n2: n1+n2)\n",
    "##cumulated_count = counts.reduceByKeyAndWindow(lambda n1, n2: n1 + n2, lambda n1,n2: n1-n2, windowDuration = 30, slideDuration = 10)\n",
    "##cumulated_count.pprint()"
   ]
  },
  {
   "cell_type": "code",
   "execution_count": 9,
   "metadata": {},
   "outputs": [
    {
     "name": "stdout",
     "output_type": "stream",
     "text": [
      "-------------------------------------------\n",
      "Time: 2019-10-18 19:37:20\n",
      "-------------------------------------------\n",
      "(('#MakeItRight', '2019-10-18 17:37:04'), 'always')\n",
      "(('#MakeItRight', '2019-10-18 17:37:04'), 'stream')\n",
      "(('#MakeItRight', '2019-10-18 17:37:04'), 'new')\n",
      "(('#MakeItRight', '2019-10-18 17:37:04'), 'collab')\n",
      "(('#MakeItRight', '2019-10-18 17:37:04'), '▶️')\n",
      "(('#MakeItRight', '2019-10-18 17:37:04'), 'https…')\n",
      "(('#MakeItRight', '2019-10-18 17:37:05'), 'thank')\n",
      "(('#MakeItRight', '2019-10-18 17:37:05'), 'u')\n",
      "(('#MakeItRight', '2019-10-18 17:37:05'), 'guys')\n",
      "(('#MakeItRight', '2019-10-18 17:37:05'), 'thank')\n",
      "...\n",
      "\n",
      "-------------------------------------------\n",
      "Time: 2019-10-18 19:37:30\n",
      "-------------------------------------------\n",
      "(('#MakeItRight', '2019-10-18 17:37:14'), 'compiled')\n",
      "(('#MakeItRight', '2019-10-18 17:37:14'), 'animation')\n",
      "(('#MakeItRight', '2019-10-18 17:37:14'), 'scenes')\n",
      "(('#MakeItRight', '2019-10-18 17:37:14'), 'makes')\n",
      "(('#MakeItRight', '2019-10-18 17:37:14'), 'sense')\n",
      "(('#MakeItRight', '2019-10-18 17:37:15'), 'ltmake')\n",
      "(('#MakeItRight', '2019-10-18 17:37:15'), 'right')\n",
      "(('#MakeItRight', '2019-10-18 17:37:15'), 'feat')\n",
      "(('#MakeItRight', '2019-10-18 17:37:15'), 'lauvgt')\n",
      "(('#MakeItRight', '2019-10-18 17:37:15'), 'official')\n",
      "...\n",
      "\n",
      "-------------------------------------------\n",
      "Time: 2019-10-18 19:37:40\n",
      "-------------------------------------------\n",
      "(('#MakeItRight', '2019-10-18 17:37:24'), '“')\n",
      "(('#MakeItRight', '2019-10-18 17:37:24'), 'respect')\n",
      "(('#MakeItRight', '2019-10-18 17:37:24'), 'respect')\n",
      "(('#MakeItRight', '2019-10-18 17:37:24'), 'us')\n",
      "(('#MakeItRight', '2019-10-18 17:37:24'), '”')\n",
      "(('#MakeItRight', '2019-10-18 17:37:24'), 'vacation')\n",
      "(('#MakeItRight', '2019-10-18 17:37:25'), 'make')\n",
      "(('#MakeItRight', '2019-10-18 17:37:25'), 'right')\n",
      "(('#MakeItRight', '2019-10-18 17:37:25'), 'feat')\n",
      "(('#MakeItRight', '2019-10-18 17:37:25'), 'lauv')\n",
      "...\n",
      "\n",
      "-------------------------------------------\n",
      "Time: 2019-10-18 19:37:50\n",
      "-------------------------------------------\n",
      "(('#MakeItRight', '2019-10-18 17:37:34'), 'ltmake')\n",
      "(('#MakeItRight', '2019-10-18 17:37:34'), 'right')\n",
      "(('#MakeItRight', '2019-10-18 17:37:34'), 'feat')\n",
      "(('#MakeItRight', '2019-10-18 17:37:34'), 'lauvgt')\n",
      "(('#MakeItRight', '2019-10-18 17:37:34'), 'official')\n",
      "(('#MakeItRight', '2019-10-18 17:37:34'), 'mv')\n",
      "(('#MakeItRight', '2019-10-18 17:37:34'), '…')\n",
      "(('#MakeItRight', '2019-10-18 17:37:35'), 'new')\n",
      "(('#MakeItRight', '2019-10-18 17:37:35'), 'video')\n",
      "(('#MakeItRight', '2019-10-18 17:37:35'), 'featuring')\n",
      "...\n",
      "\n",
      "-------------------------------------------\n",
      "Time: 2019-10-18 19:38:00\n",
      "-------------------------------------------\n",
      "(('#MakeItRight', '2019-10-18 17:37:44'), 'lauv')\n",
      "(('#MakeItRight', '2019-10-18 17:37:44'), 'bopping')\n",
      "(('#MakeItRight', '2019-10-18 17:37:45'), 'feat')\n",
      "(('#MakeItRight', '2019-10-18 17:37:45'), 'watch')\n",
      "(('#MakeItRight', '2019-10-18 17:37:45'), 'video')\n",
      "(('#MakeItRight', '2019-10-18 17:37:45'), '…')\n",
      "(('#MakeItRight', '2019-10-18 17:37:45'), 'thank')\n",
      "(('#MakeItRight', '2019-10-18 17:37:45'), 'u')\n",
      "(('#MakeItRight', '2019-10-18 17:37:45'), 'guys')\n",
      "(('#MakeItRight', '2019-10-18 17:37:45'), 'thank')\n",
      "...\n",
      "\n",
      "-------------------------------------------\n",
      "Time: 2019-10-18 19:38:10\n",
      "-------------------------------------------\n",
      "(('#lomaprieta', '2019-10-18 17:37:59'), 'lets')\n",
      "(('#lomaprieta', '2019-10-18 17:37:59'), 'thought')\n",
      "(('#lomaprieta', '2019-10-18 17:37:59'), 'eeriment')\n",
      "(('#lomaprieta', '2019-10-18 17:37:59'), 'shakealert')\n",
      "(('#lomaprieta', '2019-10-18 17:37:59'), 'earthquake')\n",
      "(('#lomaprieta', '2019-10-18 17:37:59'), 'early')\n",
      "(('#lomaprieta', '2019-10-18 17:37:59'), 'warning')\n",
      "(('#lomaprieta', '2019-10-18 17:37:59'), 'system')\n",
      "(('#lomaprieta', '2019-10-18 17:37:59'), 'operating')\n",
      "(('#lomaprieta', '2019-10-18 17:37:59'), '…')\n",
      "\n",
      "-------------------------------------------\n",
      "Time: 2019-10-18 19:38:20\n",
      "-------------------------------------------\n",
      "\n"
     ]
    }
   ],
   "source": [
    "ssc.start()\n",
    "ssc.awaitTermination(timeout=60)"
   ]
  }
 ],
 "metadata": {
  "kernelspec": {
   "display_name": "Python 3",
   "language": "python",
   "name": "python3"
  },
  "language_info": {
   "codemirror_mode": {
    "name": "ipython",
    "version": 3
   },
   "file_extension": ".py",
   "mimetype": "text/x-python",
   "name": "python",
   "nbconvert_exporter": "python",
   "pygments_lexer": "ipython3",
   "version": "3.7.3"
  }
 },
 "nbformat": 4,
 "nbformat_minor": 1
}
