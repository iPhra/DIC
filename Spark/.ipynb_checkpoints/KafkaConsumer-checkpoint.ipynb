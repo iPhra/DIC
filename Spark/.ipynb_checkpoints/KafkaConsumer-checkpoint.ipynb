{
 "cells": [
  {
   "cell_type": "markdown",
   "metadata": {},
   "source": [
    "# Kafka Consumer"
   ]
  },
  {
   "cell_type": "code",
   "execution_count": 1,
   "metadata": {},
   "outputs": [],
   "source": [
    "#Setup environment variables\n",
    "import os\n",
    "os.environ['PYSPARK_SUBMIT_ARGS'] = '--packages org.apache.spark:spark-streaming-kafka-0-8_2.11:2.0.2,org.postgresql:postgresql:42.1.1 pyspark-shell'"
   ]
  },
  {
   "cell_type": "markdown",
   "metadata": {},
   "source": [
    "### Import dependencies\n"
   ]
  },
  {
   "cell_type": "code",
   "execution_count": 2,
   "metadata": {},
   "outputs": [],
   "source": [
    "#Stream processing\n",
    "from pyspark import SparkContext\n",
    "from pyspark.sql import SparkSession\n",
    "from pyspark.sql import SQLContext\n",
    "from pyspark.streaming import StreamingContext\n",
    "from pyspark.streaming.kafka import KafkaUtils\n",
    "#Data formats and db connection\n",
    "import json\n",
    "import psycopg2"
   ]
  },
  {
   "cell_type": "code",
   "execution_count": 3,
   "metadata": {},
   "outputs": [],
   "source": [
    "#Text processing\n",
    "import preprocessor as p\n",
    "import re\n",
    "import string\n",
    "\n",
    "import nltk\n",
    "from nltk.corpus import stopwords\n",
    "from nltk import word_tokenize"
   ]
  },
  {
   "cell_type": "markdown",
   "metadata": {},
   "source": [
    "### Text cleaning"
   ]
  },
  {
   "cell_type": "code",
   "execution_count": 4,
   "metadata": {},
   "outputs": [],
   "source": [
    "stop_words = set(stopwords.words(\"english\")) #create a set of stopwords\n",
    "stop_words = stop_words.union(set((\"im\", \"thats\",\"rt\"))) #add these stopwords\n",
    "stop_words = stop_words - set(\"not\") #remove not from the stopwords\n",
    "\n",
    "p.set_options(p.OPT.URL, p.OPT.MENTION, p.OPT.EMOJI, p.OPT.SMILEY) #params to remove from the text\n",
    "\n",
    "def preprocess(text):\n",
    "    \n",
    "    #remove url, mentions, smiley and emojis\n",
    "    text = p.clean(text)\n",
    "    \n",
    "    #to lowercase\n",
    "    text = text.lower()\n",
    "    \n",
    "    #remove punctuation\n",
    "    text = re.sub(r'([^\\s\\w]|_)+', '', text)\n",
    "    \n",
    "    #removing stopwords and stem each word\n",
    "    tokens = word_tokenize(text)\n",
    "    \n",
    "    text = [i for i in tokens if not i in stop_words]\n",
    "    \n",
    "    return ' '.join(text)\n",
    "\n",
    "def bigrams(string):\n",
    "    string = re.sub(' +', ' ', string)\n",
    "    return re.findall(\"[^\\s]+\\s[^\\s]+\", s)"
   ]
  },
  {
   "cell_type": "markdown",
   "metadata": {},
   "source": [
    "### Create Spark context and streaming context"
   ]
  },
  {
   "cell_type": "code",
   "execution_count": 5,
   "metadata": {},
   "outputs": [],
   "source": [
    "sc = SparkContext(appName=\"StreamProcessorPyspark\").getOrCreate()\n",
    "sc.setLogLevel(\"WARN\")\n",
    "\n",
    "ssc = StreamingContext(sc, 10)\n",
    "ssc.checkpoint('ssc_checkpoint')"
   ]
  },
  {
   "cell_type": "markdown",
   "metadata": {},
   "source": [
    "### Connect to Kafka and to the DB\n"
   ]
  },
  {
   "cell_type": "code",
   "execution_count": 7,
   "metadata": {},
   "outputs": [],
   "source": [
    "#ip = 'localhost'\n",
    "ip = '35.228.250.247'\n",
    "kafkaParams = {\"metadata.broker.list\": ip+':9092', \"auto.offset.reset\": 'largest'}\n",
    "myStream = KafkaUtils.createDirectStream(ssc, ['DIC'], kafkaParams)\n",
    "\n",
    "host = \"ec2-54-217-206-65.eu-west-1.compute.amazonaws.com\"\n",
    "database = \"d9bf9qompakvh6\"\n",
    "user = \"cuapumoqmbkafk\"\n",
    "password = \"a510ef81c98a872ea8e47b58e7e044fb5f204f56b7019a581aa3b4f9223498f8\""
   ]
  },
  {
   "cell_type": "markdown",
   "metadata": {},
   "source": [
    "### Process DStream"
   ]
  },
  {
   "cell_type": "code",
   "execution_count": 9,
   "metadata": {},
   "outputs": [],
   "source": [
    "tweets = myStream.map(lambda item: json.loads(item[1]))\n",
    "tweets = tweets.map(lambda x: ((x['tag'], x['date']), preprocess(x['tweet']).split()))\n",
    "\n",
    "pairs = tweets.flatMapValues(lambda x: x)\n",
    "words = pairs.map(lambda x: ((x[0][0], x[0][1], x[1]), 1))                     "
   ]
  },
  {
   "cell_type": "code",
   "execution_count": 10,
   "metadata": {},
   "outputs": [],
   "source": [
    "def updateFunction(newValues, runningCount):\n",
    "    if runningCount is None:\n",
    "        runningCount = 0\n",
    "        \n",
    "    return sum(newValues, runningCount)\n",
    "\n",
    "counts = words.updateStateByKey(updateFunction)"
   ]
  },
  {
   "cell_type": "markdown",
   "metadata": {},
   "source": [
    "### Store results into DB"
   ]
  },
  {
   "cell_type": "code",
   "execution_count": 11,
   "metadata": {},
   "outputs": [],
   "source": [
    "def sendPartition(iter):\n",
    "    for record in iter:\n",
    "        conn = psycopg2.connect(host= host,database= database, user= user, password= password, port = 5432)\n",
    "        cur = conn.cursor()\n",
    "\n",
    "        treshold = 10\n",
    "        if (record[1] > treshold):\n",
    "            sql = \"INSERT INTO word (tag, date, word, frequency) VALUES (%s, %s, %s, %s) \" \\\n",
    "            \"ON CONFLICT ON CONSTRAINT word_pkey DO UPDATE \" \\\n",
    "            \"SET frequency = word.frequency + %s\"\n",
    "            cur.execute(sql, (record[0][0],record[0][1],record[0][2],record[1],record[1]))\n",
    "            conn.commit()\n",
    "        conn.close()\n",
    "\n",
    "counts.foreachRDD(lambda rdd: rdd.foreachPartition(sendPartition))"
   ]
  },
  {
   "cell_type": "markdown",
   "metadata": {},
   "source": [
    "### Start the stream processing"
   ]
  },
  {
   "cell_type": "code",
   "execution_count": null,
   "metadata": {
    "scrolled": true
   },
   "outputs": [],
   "source": [
    "ssc.start()\n",
    "ssc.awaitTermination(timeout=10000)"
   ]
  }
 ],
 "metadata": {
  "kernelspec": {
   "display_name": "Python 3",
   "language": "python",
   "name": "python3"
  },
  "language_info": {
   "codemirror_mode": {
    "name": "ipython",
    "version": 3
   },
   "file_extension": ".py",
   "mimetype": "text/x-python",
   "name": "python",
   "nbconvert_exporter": "python",
   "pygments_lexer": "ipython3",
   "version": "3.7.3"
  }
 },
 "nbformat": 4,
 "nbformat_minor": 1
}
