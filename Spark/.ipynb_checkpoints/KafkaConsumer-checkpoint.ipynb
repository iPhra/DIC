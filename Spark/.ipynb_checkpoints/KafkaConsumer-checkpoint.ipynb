{
 "cells": [
  {
   "cell_type": "markdown",
   "metadata": {},
   "source": [
    "# Kafka Consumer"
   ]
  },
  {
   "cell_type": "code",
   "execution_count": 1,
   "metadata": {},
   "outputs": [],
   "source": [
    "import os\n",
    "os.environ['PYSPARK_SUBMIT_ARGS'] = '--packages org.apache.spark:spark-streaming-kafka-0-8_2.11:2.0.2 pyspark-shell'"
   ]
  },
  {
   "cell_type": "markdown",
   "metadata": {},
   "source": [
    "### Import dependencies\n"
   ]
  },
  {
   "cell_type": "code",
   "execution_count": 2,
   "metadata": {},
   "outputs": [],
   "source": [
    "#Stream processing\n",
    "from pyspark import SparkContext\n",
    "from pyspark.streaming import StreamingContext\n",
    "from pyspark.streaming.kafka import KafkaUtils\n",
    "import json"
   ]
  },
  {
   "cell_type": "code",
   "execution_count": 3,
   "metadata": {},
   "outputs": [],
   "source": [
    "#Text processing\n",
    "import preprocessor as p\n",
    "import re\n",
    "import string\n",
    "\n",
    "import nltk\n",
    "from nltk.corpus import stopwords\n",
    "from nltk import word_tokenize"
   ]
  },
  {
   "cell_type": "markdown",
   "metadata": {},
   "source": [
    "### Text cleaning"
   ]
  },
  {
   "cell_type": "code",
   "execution_count": 4,
   "metadata": {},
   "outputs": [],
   "source": [
    "stop_words = set(stopwords.words(\"english\")) #create a set of stopwords\n",
    "stop_words = stop_words.union(set((\"im\", \"thats\",\"rt\"))) #add these stopwords\n",
    "stop_words = stop_words - set(\"not\") #remove not from the stopwords\n",
    "\n",
    "p.set_options(p.OPT.URL, p.OPT.MENTION, p.OPT.EMOJI, p.OPT.SMILEY) #params to remove from the text\n",
    "\n",
    "def preprocess(text):\n",
    "    \n",
    "    #remove url, mentions, smiley and emojis\n",
    "    text = p.clean(text)\n",
    "    \n",
    "    #to lowercase\n",
    "    text = text.lower()\n",
    "    \n",
    "    #remove punctuation\n",
    "    text = text.translate(str.maketrans('', '', string.punctuation))\n",
    "    \n",
    "    #removing stopwords and stem each word\n",
    "    tokens = word_tokenize(text)\n",
    "    \n",
    "    #is_noun = lambda pos: pos[:2] == 'NN'\n",
    "    text = [i for i in tokens if not i in stop_words]\n",
    "    #text = [word for (word, pos) in nltk.pos_tag(tokens) if is_noun(pos)] \n",
    "    \n",
    "    return ' '.join(text)"
   ]
  },
  {
   "cell_type": "markdown",
   "metadata": {},
   "source": [
    "### Create Spark context\n"
   ]
  },
  {
   "cell_type": "code",
   "execution_count": 5,
   "metadata": {},
   "outputs": [],
   "source": [
    "sc = SparkContext(appName=\"PythonSparkStreamingKafka_RM_01\").getOrCreate()\n",
    "sc.setLogLevel(\"WARN\")"
   ]
  },
  {
   "cell_type": "markdown",
   "metadata": {},
   "source": [
    "### Create Streaming Context\n"
   ]
  },
  {
   "cell_type": "code",
   "execution_count": 6,
   "metadata": {},
   "outputs": [],
   "source": [
    "ssc = StreamingContext(sc, 10)\n",
    "ssc.checkpoint('ssc_checkpoint')"
   ]
  },
  {
   "cell_type": "markdown",
   "metadata": {},
   "source": [
    "### Connect to Kafka\n"
   ]
  },
  {
   "cell_type": "code",
   "execution_count": 7,
   "metadata": {},
   "outputs": [],
   "source": [
    "ip = 'localhost' #35.228.250.247\n",
    "kafkaParams = {\"metadata.broker.list\": ip+':9092', \"auto.offset.reset\": 'smallest'}\n",
    "myStream = KafkaUtils.createDirectStream(ssc, ['DIC'], kafkaParams)"
   ]
  },
  {
   "cell_type": "code",
   "execution_count": 8,
   "metadata": {},
   "outputs": [],
   "source": [
    "tweets = myStream.map(lambda item: json.loads(item[1]))\n",
    "tweets = tweets.map(lambda x: ((x['tag'], x['date']), preprocess(x['tweet']).split()))\n",
    "\n",
    "pairs = tweets.flatMapValues(lambda x: x)\n",
    "words = pairs.map(lambda x: ((x[0][0], x[0][1], x[1]), 1))                     "
   ]
  },
  {
   "cell_type": "code",
   "execution_count": 9,
   "metadata": {},
   "outputs": [],
   "source": [
    "def updateFunction(newValues, runningCount):\n",
    "    if runningCount is None:\n",
    "        runningCount = 0\n",
    "        \n",
    "    return sum(newValues, runningCount)\n",
    "\n",
    "counts = words.updateStateByKey(updateFunction)"
   ]
  },
  {
   "cell_type": "code",
   "execution_count": 10,
   "metadata": {
    "scrolled": true
   },
   "outputs": [
    {
     "name": "stdout",
     "output_type": "stream",
     "text": [
      "-------------------------------------------\n",
      "Time: 2019-10-19 11:35:00\n",
      "-------------------------------------------\n",
      "\n",
      "-------------------------------------------\n",
      "Time: 2019-10-19 11:35:10\n",
      "-------------------------------------------\n",
      "(('#UFCBoston', '2019-10-19', 'gets'), 1)\n",
      "(('#UFCBoston', '2019-10-19', 'first'), 1)\n",
      "(('#UFCBoston', '2019-10-19', 'dominick'), 1)\n",
      "(('#UFCBoston', '2019-10-19', 'chris'), 1)\n",
      "(('#UFCBoston', '2019-10-19', '33'), 1)\n",
      "(('#UFCBoston', '2019-10-19', 'round'), 1)\n",
      "(('#UFCBoston', '2019-10-19', 'home'), 1)\n",
      "(('#UFCBoston', '2019-10-19', 'lakes'), 1)\n",
      "(('#UFCBoston', '2019-10-19', 'minutes'), 1)\n",
      "(('#UFCBoston', '2019-10-19', 'move'), 1)\n",
      "...\n",
      "\n",
      "-------------------------------------------\n",
      "Time: 2019-10-19 11:35:20\n",
      "-------------------------------------------\n",
      "(('#UFCBoston', '2019-10-19', 'gets'), 1)\n",
      "(('#UFCBoston', '2019-10-19', 'first'), 1)\n",
      "(('#UFCBoston', '2019-10-19', 'dominick'), 1)\n",
      "(('#UFCBoston', '2019-10-19', 'chris'), 1)\n",
      "(('#UFCBoston', '2019-10-19', '33'), 1)\n",
      "(('#UFCBoston', '2019-10-19', 'round'), 1)\n",
      "(('#UFCBoston', '2019-10-19', 'home'), 1)\n",
      "(('#UFCBoston', '2019-10-19', 'lakes'), 1)\n",
      "(('#UFCBoston', '2019-10-19', 'minutes'), 1)\n",
      "(('#UFCBoston', '2019-10-19', 'move'), 1)\n",
      "...\n",
      "\n",
      "-------------------------------------------\n",
      "Time: 2019-10-19 11:35:30\n",
      "-------------------------------------------\n",
      "(('#UFCBoston', '2019-10-19', 'gets'), 1)\n",
      "(('#UFCBoston', '2019-10-19', 'first'), 1)\n",
      "(('#UFCBoston', '2019-10-19', 'dominick'), 1)\n",
      "(('#UFCBoston', '2019-10-19', 'chris'), 1)\n",
      "(('#UFCBoston', '2019-10-19', 'controversy'), 1)\n",
      "(('#UFCBoston', '2019-10-19', 'time'), 1)\n",
      "(('#UFCBoston', '2019-10-19', 'warrior'), 1)\n",
      "(('#UFCBoston', '2019-10-19', '33'), 1)\n",
      "(('#UFCBoston', '2019-10-19', 'round'), 2)\n",
      "(('#UFCBoston', '2019-10-19', 'home'), 1)\n",
      "...\n",
      "\n",
      "-------------------------------------------\n",
      "Time: 2019-10-19 11:35:40\n",
      "-------------------------------------------\n",
      "(('#UFCBoston', '2019-10-19', 'gets'), 1)\n",
      "(('#UFCBoston', '2019-10-19', 'first'), 1)\n",
      "(('#UFCBoston', '2019-10-19', 'dominick'), 1)\n",
      "(('#UFCBoston', '2019-10-19', 'chris'), 1)\n",
      "(('#UFCBoston', '2019-10-19', 'controversy'), 1)\n",
      "(('#UFCBoston', '2019-10-19', 'time'), 1)\n",
      "(('#UFCBoston', '2019-10-19', 'warrior'), 1)\n",
      "(('#UFCBoston', '2019-10-19', '33'), 1)\n",
      "(('#UFCBoston', '2019-10-19', 'round'), 2)\n",
      "(('#UFCBoston', '2019-10-19', 'home'), 1)\n",
      "...\n",
      "\n",
      "-------------------------------------------\n",
      "Time: 2019-10-19 11:35:50\n",
      "-------------------------------------------\n",
      "(('#UFCBoston', '2019-10-19', 'gets'), 1)\n",
      "(('#UFCBoston', '2019-10-19', 'first'), 1)\n",
      "(('#UFCBoston', '2019-10-19', 'dominick'), 1)\n",
      "(('#UFCBoston', '2019-10-19', 'chris'), 1)\n",
      "(('#UFCBoston', '2019-10-19', 'controversy'), 1)\n",
      "(('#UFCBoston', '2019-10-19', 'time'), 1)\n",
      "(('#UFCBoston', '2019-10-19', 'warrior'), 1)\n",
      "(('#UFCBoston', '2019-10-19', '33'), 1)\n",
      "(('#UFCBoston', '2019-10-19', 'round'), 2)\n",
      "(('#UFCBoston', '2019-10-19', 'home'), 1)\n",
      "...\n",
      "\n",
      "-------------------------------------------\n",
      "Time: 2019-10-19 11:36:00\n",
      "-------------------------------------------\n",
      "(('#UFCBoston', '2019-10-19', 'gets'), 1)\n",
      "(('#UFCBoston', '2019-10-19', 'first'), 1)\n",
      "(('#UFCBoston', '2019-10-19', 'dominick'), 2)\n",
      "(('#UFCBoston', '2019-10-19', 'chris'), 2)\n",
      "(('#UFCBoston', '2019-10-19', 'controversy'), 1)\n",
      "(('#UFCBoston', '2019-10-19', 'time'), 1)\n",
      "(('#UFCBoston', '2019-10-19', 'warrior'), 1)\n",
      "(('#UFCBoston', '2019-10-19', 'devastator'), 1)\n",
      "(('#UFCBoston', '2019-10-19', '120'), 1)\n",
      "(('#UFCBoston', '2019-10-19', 'hands'), 1)\n",
      "...\n",
      "\n",
      "-------------------------------------------\n",
      "Time: 2019-10-19 11:36:10\n",
      "-------------------------------------------\n",
      "(('#UFCBoston', '2019-10-19', 'gets'), 1)\n",
      "(('#UFCBoston', '2019-10-19', 'first'), 1)\n",
      "(('#UFCBoston', '2019-10-19', 'dominick'), 2)\n",
      "(('#UFCBoston', '2019-10-19', 'chris'), 2)\n",
      "(('#UFCBoston', '2019-10-19', 'controversy'), 1)\n",
      "(('#UFCBoston', '2019-10-19', 'time'), 1)\n",
      "(('#UFCBoston', '2019-10-19', 'warrior'), 1)\n",
      "(('#UFCBoston', '2019-10-19', 'devastator'), 1)\n",
      "(('#UFCBoston', '2019-10-19', '120'), 1)\n",
      "(('#UFCBoston', '2019-10-19', 'hands'), 1)\n",
      "...\n",
      "\n",
      "-------------------------------------------\n",
      "Time: 2019-10-19 11:36:20\n",
      "-------------------------------------------\n",
      "(('#UFCBoston', '2019-10-19', 'gets'), 1)\n",
      "(('#UFCBoston', '2019-10-19', 'first'), 1)\n",
      "(('#UFCBoston', '2019-10-19', 'dominick'), 2)\n",
      "(('#UFCBoston', '2019-10-19', 'chris'), 2)\n",
      "(('#UFCBoston', '2019-10-19', 'controversy'), 1)\n",
      "(('#UFCBoston', '2019-10-19', 'time'), 1)\n",
      "(('#UFCBoston', '2019-10-19', 'warrior'), 1)\n",
      "(('#UFCBoston', '2019-10-19', 'devastator'), 1)\n",
      "(('#UFCBoston', '2019-10-19', '120'), 1)\n",
      "(('#UFCBoston', '2019-10-19', 'hands'), 1)\n",
      "...\n",
      "\n",
      "-------------------------------------------\n",
      "Time: 2019-10-19 11:36:30\n",
      "-------------------------------------------\n",
      "(('#UFCBoston', '2019-10-19', 'gets'), 1)\n",
      "(('#UFCBoston', '2019-10-19', 'first'), 2)\n",
      "(('#UFCBoston', '2019-10-19', 'dominick'), 2)\n",
      "(('#UFCBoston', '2019-10-19', 'chris'), 2)\n",
      "(('#UFCBoston', '2019-10-19', 'controversy'), 1)\n",
      "(('#UFCBoston', '2019-10-19', 'time'), 1)\n",
      "(('#UFCBoston', '2019-10-19', 'warrior'), 1)\n",
      "(('#UFCBoston', '2019-10-19', 'devastator'), 1)\n",
      "(('#UFCBoston', '2019-10-19', '120'), 1)\n",
      "(('#UFCBoston', '2019-10-19', 'hands'), 1)\n",
      "...\n",
      "\n"
     ]
    }
   ],
   "source": [
    "counts.pprint() \n",
    "\n",
    "ssc.start()\n",
    "ssc.awaitTermination(timeout=60)"
   ]
  },
  {
   "cell_type": "code",
   "execution_count": null,
   "metadata": {},
   "outputs": [],
   "source": []
  }
 ],
 "metadata": {
  "kernelspec": {
   "display_name": "Python 3",
   "language": "python",
   "name": "python3"
  },
  "language_info": {
   "codemirror_mode": {
    "name": "ipython",
    "version": 3
   },
   "file_extension": ".py",
   "mimetype": "text/x-python",
   "name": "python",
   "nbconvert_exporter": "python",
   "pygments_lexer": "ipython3",
   "version": "3.7.3"
  }
 },
 "nbformat": 4,
 "nbformat_minor": 1
}
